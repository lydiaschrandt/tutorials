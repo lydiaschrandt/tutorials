{
 "cells": [
  {
   "cell_type": "markdown",
   "id": "6c296d0e",
   "metadata": {},
   "source": [
    "# Exercise 1"
   ]
  },
  {
   "cell_type": "code",
   "execution_count": null,
   "id": "b69018d5",
   "metadata": {},
   "outputs": [],
   "source": [
    "student_names = ['Luis', 'Divya', 'Maria', 'Mimi']\n",
    "student_names.append('Arnold)"
   ]
  },
  {
   "cell_type": "markdown",
   "id": "699a3986",
   "metadata": {},
   "source": [
    "# Exercise 2"
   ]
  },
  {
   "cell_type": "code",
   "execution_count": null,
   "id": "c88999bb",
   "metadata": {},
   "outputs": [],
   "source": [
    "nums = [3, 8, -4, 22, 0]\n",
    "\n",
    "for num in nums\n",
    "    num = num+1"
   ]
  },
  {
   "cell_type": "markdown",
   "id": "0d80ada0",
   "metadata": {},
   "source": [
    "# Exercise 3"
   ]
  },
  {
   "cell_type": "code",
   "execution_count": null,
   "id": "8fdddc75",
   "metadata": {},
   "outputs": [],
   "source": [
    "fruits = ['apples', 'bananas', 'oranges', 'grapes']\n",
    "new_fruits = ['pears', 'cherries', 'tangerines']\n",
    "\n",
    "fro fruit in new_fruits:\n",
    "    fruits.append(fruit)"
   ]
  }
 ],
 "metadata": {
  "kernelspec": {
   "display_name": "Python 3 (ipykernel)",
   "language": "python",
   "name": "python3"
  },
  "language_info": {
   "codemirror_mode": {
    "name": "ipython",
    "version": 3
   },
   "file_extension": ".py",
   "mimetype": "text/x-python",
   "name": "python",
   "nbconvert_exporter": "python",
   "pygments_lexer": "ipython3",
   "version": "3.9.12"
  }
 },
 "nbformat": 4,
 "nbformat_minor": 5
}
